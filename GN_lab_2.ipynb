{
  "nbformat": 4,
  "nbformat_minor": 0,
  "metadata": {
    "colab": {
      "provenance": [],
      "authorship_tag": "ABX9TyNkm1vxJ+7WMw/5UJD6/9Lf",
      "include_colab_link": true
    },
    "kernelspec": {
      "name": "python3",
      "display_name": "Python 3"
    },
    "language_info": {
      "name": "python"
    }
  },
  "cells": [
    {
      "cell_type": "markdown",
      "metadata": {
        "id": "view-in-github",
        "colab_type": "text"
      },
      "source": [
        "<a href=\"https://colab.research.google.com/github/ntcrckr/gl-lab-2/blob/main/GN_lab_2.ipynb\" target=\"_parent\"><img src=\"https://colab.research.google.com/assets/colab-badge.svg\" alt=\"Open In Colab\"/></a>"
      ]
    },
    {
      "cell_type": "markdown",
      "source": [
        "Исходные данные"
      ],
      "metadata": {
        "id": "qpAy0k5GYTkw"
      }
    },
    {
      "cell_type": "code",
      "execution_count": 310,
      "metadata": {
        "id": "1Qsdig1FCyHe"
      },
      "outputs": [],
      "source": [
        "word_length = 95"
      ]
    },
    {
      "cell_type": "markdown",
      "source": [
        "Установка и вычисление контрольной суммы"
      ],
      "metadata": {
        "id": "W1akXR-tYX6r"
      }
    },
    {
      "cell_type": "code",
      "source": [
        "!pip install crc64iso"
      ],
      "metadata": {
        "colab": {
          "base_uri": "https://localhost:8080/"
        },
        "id": "Xjjl4WMaER3G",
        "outputId": "01ac8d14-8f12-4d74-e06a-d0cab05aedd8"
      },
      "execution_count": 57,
      "outputs": [
        {
          "output_type": "stream",
          "name": "stdout",
          "text": [
            "Looking in indexes: https://pypi.org/simple, https://us-python.pkg.dev/colab-wheels/public/simple/\n",
            "Requirement already satisfied: crc64iso in /usr/local/lib/python3.9/dist-packages (0.0.2)\n"
          ]
        }
      ]
    },
    {
      "cell_type": "code",
      "source": [
        "from crc64iso.crc64iso import crc64\n",
        "from math import ceil, log2\n",
        "from random import randint"
      ],
      "metadata": {
        "id": "ueA5VvYbEASj"
      },
      "execution_count": 386,
      "outputs": []
    },
    {
      "cell_type": "code",
      "source": [
        "def checksum(text):\n",
        "  return crc64(text)"
      ],
      "metadata": {
        "id": "A1lTpYC2YO_m"
      },
      "execution_count": 453,
      "outputs": []
    },
    {
      "cell_type": "markdown",
      "source": [
        "Утилитарные функции"
      ],
      "metadata": {
        "id": "SQj7lxbfVdUC"
      }
    },
    {
      "cell_type": "code",
      "source": [
        "def text_to_bits(text, encoding='utf-8', errors=\"ignore\"):\n",
        "    bits = bin(int.from_bytes(text.encode(encoding, errors), 'big'))[2:]\n",
        "    return bits.zfill(8 * ((len(bits) + 7) // 8))\n",
        "  \n",
        "\n",
        "def bits_to_text(bits, encoding='utf-8', errors=\"ignore\"):\n",
        "    n = int(bits, 2)\n",
        "    return n.to_bytes((n.bit_length() + 7) // 8, 'big').decode(encoding, errors) or '\\0'"
      ],
      "metadata": {
        "id": "ZvtUzM-vV-So"
      },
      "execution_count": null,
      "outputs": []
    },
    {
      "cell_type": "code",
      "source": [
        "def calcRedundantBits(m):\n",
        "\tfor i in range(m):\n",
        "\t\tif(2**i >= m + i + 1):\n",
        "\t\t\treturn i\n",
        "\n",
        "def posRedundantBits(data, r):\n",
        "\tj = 0\n",
        "\tk = 1\n",
        "\tm = len(data)\n",
        "\tres = ''\n",
        "\tfor i in range(1, m + r+1):\n",
        "\t\tif(i == 2**j):\n",
        "\t\t\tres = res + '0'\n",
        "\t\t\tj += 1\n",
        "\t\telse:\n",
        "\t\t\tres = res + data[-1 * k]\n",
        "\t\t\tk += 1\n",
        "\treturn res\n",
        "\n",
        "\n",
        "def calcParityBits(arr, r):\n",
        "\tn = len(arr)\n",
        "\tfor i in range(r):\n",
        "\t\tval = 0\n",
        "\t\tfor j in range(1, n + 1):\n",
        "\t\t\tif(j & (2**i) == (2**i)):\n",
        "\t\t\t\tval = val ^ int(arr[-1 * j])\n",
        "\t\tarr = arr[:n-(2**i)] + str(val) + arr[n-(2**i)+1:]\n",
        "\treturn arr\n",
        "\n",
        "\n",
        "def detectError(arr, nr):\n",
        "\tn = len(arr)\n",
        "\tres = 0\n",
        "\tfor i in range(nr):\n",
        "\t\tval = 0\n",
        "\t\tfor j in range(1, n + 1):\n",
        "\t\t\tif(j & (2**i) == (2**i)):\n",
        "\t\t\t\tval = val ^ int(arr[-1 * j])\n",
        "\t\tres = res + val*(10**i)\n",
        "\treturn int(str(res), 2)\n",
        "\n",
        "\n",
        "def remove_redundant_bits(data):\n",
        "  r_idx = 1\n",
        "  i_to_remove = []\n",
        "\n",
        "  while r_idx+1 < len(data):\n",
        "    i_to_remove.append(r_idx-1)\n",
        "    r_idx *= 2\n",
        "\n",
        "  i_to_remove = i_to_remove[::-1]\n",
        "\n",
        "  for i in i_to_remove:\n",
        "    data = data[:i] + data[i+1:]\n",
        "\n",
        "  return data"
      ],
      "metadata": {
        "id": "S9IfKr4JZJMk"
      },
      "execution_count": 382,
      "outputs": []
    },
    {
      "cell_type": "markdown",
      "source": [
        "Функции работы со словом"
      ],
      "metadata": {
        "id": "6zCyqGLjVhDC"
      }
    },
    {
      "cell_type": "code",
      "source": [
        "def encode_word(data):\n",
        "  length = len(data)\n",
        "  red_count = calcRedundantBits(length)\n",
        "  data_with_zeros = posRedundantBits(data[::-1], red_count)\n",
        "  data_with_pars = calcParityBits(data_with_zeros[::-1], red_count)\n",
        "  return data_with_pars[::-1]\n",
        "\n",
        "\n",
        "def decode_word(word_data):\n",
        "  return remove_redundant_bits(word_data)\n",
        "\n",
        "\n",
        "def decode_word_error(word_data):\n",
        "  decoded_word_data = remove_redundant_bits(word_data)\n",
        "  r = calcRedundantBits(len(decoded_word_data))\n",
        "  idx_error = detectError(word_data[::-1], r) - 1\n",
        "  if idx_error == -1 or idx_error >= len(word_data):\n",
        "    return decoded_word_data, 0\n",
        "  word_data = word_data[:idx_error] + (\"0\" if word_data[idx_error] == \"1\" else \"1\") + word_data[idx_error+1:]\n",
        "  return remove_redundant_bits(word_data), 1"
      ],
      "metadata": {
        "id": "PT8Ocnh0D0m4"
      },
      "execution_count": 396,
      "outputs": []
    },
    {
      "cell_type": "markdown",
      "source": [
        "Функции работы с текстом"
      ],
      "metadata": {
        "id": "3EMEpzbrVjEP"
      }
    },
    {
      "cell_type": "code",
      "source": [
        "def encode(text, word_length):\n",
        "  data = text_to_bits(text)\n",
        "  data_length = len(data)\n",
        "  num_blocks = ceil(data_length / word_length)\n",
        "  data_blocks = [\n",
        "      encode_word(data[i*word_length:(i+1)*word_length])\n",
        "      for i in range(num_blocks)\n",
        "  ]\n",
        "\n",
        "  return data_blocks, checksum(text)\n",
        "\n",
        "\n",
        "def decode(words_data):\n",
        "  decoded_data = \"\".join(\n",
        "      decode_word(word_data)\n",
        "      for word_data in words_data\n",
        "  )\n",
        "  decoded_text = bits_to_text(decoded_data)\n",
        "  return decoded_text, checksum(decoded_text)\n",
        "\n",
        "\n",
        "def decode_error(words_data):\n",
        "  decoded_data = \"\"\n",
        "  errors = 0\n",
        "  for word_data in words_data:\n",
        "    decoded_word, error = decode_word_error(word_data)\n",
        "    decoded_data += decoded_word\n",
        "    errors += error\n",
        "  decoded_text = bits_to_text(decoded_data)\n",
        "  return decoded_text, errors, checksum(decoded_text)"
      ],
      "metadata": {
        "id": "nmJrhXw9fjzM"
      },
      "execution_count": 412,
      "outputs": []
    },
    {
      "cell_type": "markdown",
      "source": [
        "Функции добавления ошибок"
      ],
      "metadata": {
        "id": "ktYvWKsmVoiL"
      }
    },
    {
      "cell_type": "code",
      "source": [
        "def place_error(words_data, word_num, bit_num):\n",
        "  word_data = words_data[word_num]\n",
        "  word_data = word_data[:bit_num] + (\"0\" if word_data[bit_num] == \"1\" else \"1\") + word_data[bit_num+1:]\n",
        "  words_data[word_num] = word_data\n",
        "  return words_data\n",
        "\n",
        "\n",
        "def place_random_errors(words_data, max_errors_per_word):\n",
        "  errors_info = []\n",
        "  broken_words = 0\n",
        "  for word_num in range(len(words_data)):\n",
        "    amount_of_errors  = randint(0, max_errors_per_word)\n",
        "    broken_words += 1 if amount_of_errors else 0\n",
        "    for err in range(amount_of_errors):\n",
        "      error_idx = randint(0, len(words_data[word_num])-1)\n",
        "      words_data = place_error(words_data, word_num, error_idx)\n",
        "      errors_info.append([word_num, error_idx])\n",
        "  return words_data, broken_words, errors_info"
      ],
      "metadata": {
        "id": "ggj0vJL_DyI3"
      },
      "execution_count": 413,
      "outputs": []
    },
    {
      "cell_type": "markdown",
      "source": [
        "Основная функция"
      ],
      "metadata": {
        "id": "PXkSePSmVuXE"
      }
    },
    {
      "cell_type": "code",
      "source": [
        "def main(text, word_length, max_broken_bits_per_word):\n",
        "  encoded_blocks, check_init = encode(text, word_length)\n",
        "\n",
        "  encoded_blocks, broken_words, errors_info = place_random_errors(encoded_blocks, max_broken_bits_per_word)\n",
        "  print(f\"Amount of broken words: {broken_words}\")\n",
        "  print(f\"Amount of broken bits: {len(errors_info)}\")\n",
        "\n",
        "  decoded_text, check_dec = decode(encoded_blocks)\n",
        "  print(f\"Decoded text: {decoded_text}\")\n",
        "  print(f\"Is the same? {decoded_text == text}\")\n",
        "\n",
        "  decoded_text_err, found_error_words, check_err = decode_error(encoded_blocks)\n",
        "  print(f\"Decoded text (fixing errors): {decoded_text_err}\")\n",
        "  print(f\"Is the same? {decoded_text_err == text}\")\n",
        "\n",
        "  print(f\"Found {found_error_words} broken words of {len(encoded_blocks)} total.\")\n",
        "  print(f\"Found all errors? {len(errors_info) == found_error_words}\")\n",
        "  print(f\"Decoding checksum: {check_init == check_dec}\\nDecoding with errors fixed checksum: {check_init == check_err}\")"
      ],
      "metadata": {
        "id": "VqLfOwowlHVK"
      },
      "execution_count": 420,
      "outputs": []
    },
    {
      "cell_type": "markdown",
      "source": [
        "Тесты"
      ],
      "metadata": {
        "id": "qwbuDdRFVwEx"
      }
    },
    {
      "cell_type": "code",
      "source": [
        "text = \"Lorem ipsum dolor sit amet, consectetur adipiscing elit, sed do eiusmod tempor incididunt ut labore et dolore magna aliqua. Ut enim ad minim veniam, quis nostrud exercitation ullamco laboris nisi ut aliquip ex ea commodo consequat. Duis aute irure dolor in reprehenderit in voluptate velit esse cillum dolore eu fugiat nulla pariatur. Excepteur sint occaecat cupidatat non proident, sunt in culpa qui officia deserunt mollit anim id est laborum. Lorem ipsum dolor sit amet, consectetur adipiscing elit, sed do eiusmod tempor incididunt ut labore et dolore magna aliqua. Ut enim ad minim veniam, quis nostrud exercitation ullamco laboris nisi ut aliquip ex ea commodo consequat. Duis aute irure dolor in reprehenderit in voluptate velit esse cillum dolore eu fugiat nulla pariatur. Excepteur sint occaecat cupidatat non proident, sunt in culpa qui officia deserunt mollit anim id est laborum. Lorem ipsum dolor sit amet, consectetur adipiscing elit, sed do eiusmod tempor incididunt ut labore et dolore magna aliqua. Ut enim ad minim veniam, quis nostrud exercitation ullamco laboris nisi ut aliquip ex ea commodo consequat. Duis aute irure dolor in reprehenderit in voluptate velit esse cillum dolore eu fugiat nulla pariatur. Excepteur sint occaecat cupidatat non proident, sunt in culpa qui officia deserunt mollit anim id est laborum. Lorem ipsum dolor sit amet, consectetur adipiscing elit, sed do eiusmod tempor incididunt ut labore et dolore magna aliqua. Ut enim ad minim veniam, quis nostrud exercitation ullamco laboris nisi ut aliquip ex ea commodo consequat. Duis aute irure dolor in reprehenderit in voluptate velit esse cillum dolore eu fugiat nulla pariatur. Excepteur sint occaecat cupidatat non proident, sunt in culpa qui officia deserunt mollit anim id est laborum.\"\n",
        "main(text, word_length, max_broken_bits_per_word=1)"
      ],
      "metadata": {
        "colab": {
          "base_uri": "https://localhost:8080/"
        },
        "id": "d73unMYGKMTc",
        "outputId": "8bb9609c-a103-4015-af70-33f37ae340ee"
      },
      "execution_count": 428,
      "outputs": [
        {
          "output_type": "stream",
          "name": "stdout",
          "text": [
            "Amount of broken words: 84\n",
            "Amount of broken bits: 84\n",
            "Decoded text: Lobem ipsum dolos sit amet, cofsectetur adipiscing eliu, sed dm eiusmod tempor insididunt ut labore et`dolore magna aliqua. Ut enim ad minim weniam, quis no3trud exerCitation ullamco laboris nisi ut\"aliquip ex ea comm/do consequat. Duis aute i2ure dolor in 2eprehendepit in voluptate velit esse cillum dolore eu fugiat nulLa pariatur. Excepteur sint occaecat cupidatat non proidenv, sunt in culpq qui officia deserunt íollit anil id est laborum/ Lorem ipsum dolor Sit amet, consectetur adipiscing elit, sed do eiusmod tempor incididunt ut labore et dolore magna aliqua. Ut enim ad minim veniam, quis ngstrud exercitation ullamco labkris nisi ut aliquip ex ea commodo consequat. Duis aute irure`dolor in reprdhenderit in volupt!te velit esse Cillum dolore eu fugiat nul,a pariatur. Excepteur sint occaecat cupidetat non proident, stnt in culpa qui o&ficia deserunt mo|l)t anim id est labobum. Lore- ipsum dolor sit ameT, consectetur idipiscing elit, sed dï eiusmod tempor incididunt wt labore!et dolore oagna alaqua. Ut enim ad minim veniam, quis nostrud exercitation ullamgo laboris nisi ut aliquhp ex ea commodo con3equat. Duis aute irure dolor in reprehenderit in volUptate velit esse cillqm dolore eu vugiat nulla!pariatur. Excepteur sint ocgaecat cupidatat non pboident, sunt in culpa qui0officia desmrunt mollit anim id$est laborum. Lgrem ipsum dolor sit amet, consectetõr adipiscing ulit, sed do eiusmoD tempoR incididunt ut labïre et do|ore magna aliqua. Ut eném ad minim veniam, quis nostrud exercita|ion ullamco laboRis nisi ut aliquip ex ea commgdg consequat. @uis aute irure$dolor in reprehenderit if voluptate vehit esse cillum dolore eu fugiqt nulla pariatur. Excepteur sint kccaecat cupidatat nmn proident, sunt in culpa qui officaa ddserunt mollit anim id est labïrum\u000e\n",
            "Is the same? False\n",
            "Decoded text (fixing errors): Lorem ipsum dolor sit amet, consectetur adipiscing elit, sed do eiusmod tempor incididunt ut labore et dolore magna aliqua. Ut enim ad minim veniam, quis nostrud exercitation ullamco laboris nisi ut aliquip ex ea commodo consequat. Duis aute irure dolor in reprehenderit in voluptate velit esse cillum dolore eu fugiat nulla pariatur. Excepteur sint occaecat cupidatat non proident, sunt in culpa qui officia deserunt mollit anim id est laborum. Lorem ipsum dolor sit amet, consectetur adipiscing elit, sed do eiusmod tempor incididunt ut labore et dolore magna aliqua. Ut enim ad minim veniam, quis nostrud exercitation ullamco laboris nisi ut aliquip ex ea commodo consequat. Duis aute irure dolor in reprehenderit in voluptate velit esse cillum dolore eu fugiat nulla pariatur. Excepteur sint occaecat cupidatat non proident, sunt in culpa qui officia deserunt mollit anim id est laborum. Lorem ipsum dolor sit amet, consectetur adipiscing elit, sed do eiusmod tempor incididunt ut labore et dolore magna aliqua. Ut enim ad minim veniam, quis nostrud exercitation ullamco laboris nisi ut aliquip ex ea commodo consequat. Duis aute irure dolor in reprehenderit in voluptate velit esse cillum dolore eu fugiat nulla pariatur. Excepteur sint occaecat cupidatat non proident, sunt in culpa qui officia deserunt mollit anim id est laborum. Lorem ipsum dolor sit amet, consectetur adipiscing elit, sed do eiusmod tempor incididunt ut labore et dolore magna aliqua. Ut enim ad minim veniam, quis nostrud exercitation ullamco laboris nisi ut aliquip ex ea commodo consequat. Duis aute irure dolor in reprehenderit in voluptate velit esse cillum dolore eu fugiat nulla pariatur. Excepteur sint occaecat cupidatat non proident, sunt in culpa qui officia deserunt mollit anim id est laborum.\n",
            "Is the same? True\n",
            "Found 84 broken words of 151 total.\n",
            "Found all errors? True\n",
            "Decoding checksum: False\n",
            "Decoding with errors fixed checksum: True\n"
          ]
        }
      ]
    },
    {
      "cell_type": "code",
      "source": [
        "text = \"\"\"Текст, по-видимому, является искажённым отрывком из философского трактата Марка Туллия Цицерона «О пределах добра и зла[en]», написанного в 45 году до н. э. на латинском языке. Обнаружение сходства приписывается Ричарду Макклинтоку[1]. Испорченный текст, вероятно, происходит от его издания в Loeb Classical Library 1914 года, в котором слово dolorem разбито переносом так, что страница 36 начинается с lorem ipsum… (do- осталось на предыдущей)[2].\n",
        "\n",
        "Lorem ipsum dolor sit amet, consectetur adipiscing elit, sed do eiusmod tempor incididunt ut labore et dolore magna aliqua. Ut enim ad minim veniam, quis nostrud exercitation ullamco laboris nisi ut aliquip ex ea commodo consequat. Duis aute irure dolor in reprehenderit in voluptate velit esse cillum dolore eu fugiat nulla pariatur. Excepteur sint occaecat cupidatat non proident, sunt in culpa qui officia deserunt mollit anim id est laborum.\n",
        "\n",
        "В оригинале абзац выглядит так:\n",
        "Sed ut perspiciatis, unde omnis iste natus error sit voluptatem accusantium doloremque laudantium, totam rem aperiam eaque ipsa, quae ab illo inventore veritatis et quasi architecto beatae vitae dicta sunt, explicabo. Nemo enim ipsam voluptatem, quia voluptas sit, aspernatur aut odit aut fugit, sed quia consequuntur magni dolores eos, qui ratione voluptatem sequi nesciunt, neque porro quisquam est, qui dolorem ipsum, quia dolor sit, amet, consectetur, adipisci velit, sed quia non numquam eius modi tempora incidunt, ut labore et dolore magnam aliquam quaerat voluptatem. Ut enim ad minima veniam, quis nostrum exercitationem ullam corporis suscipit laboriosam, nisi ut aliquid ex ea commodi consequatur? Quis autem vel eum iure reprehenderit, qui in ea voluptate velit esse, quam nihil molestiae consequatur, vel illum, qui dolorem eum fugiat, quo voluptas nulla pariatur? At vero eos et accusamus et iusto odio dignissimos ducimus, qui blanditiis praesentium voluptatum deleniti atque corrupti, quos dolores et quas molestias excepturi sint, obcaecati cupiditate non provident, similique sunt in culpa, qui officia deserunt mollitia animi, id est laborum et dolorum fuga. Et harum quidem rerum facilis est et expedita distinctio. Nam libero tempore, cum soluta nobis est eligendi optio, cumque nihil impedit, quo minus id, quod maxime placeat, facere possimus, omnis voluptas assumenda est, omnis dolor repellendus. Temporibus autem quibusdam et aut officiis debitis aut rerum necessitatibus saepe eveniet, ut et voluptates repudiandae sint et molestiae non recusandae. Itaque earum rerum hic tenetur a sapiente delectus, ut aut reiciendis voluptatibus maiores alias consequatur aut perferendis doloribus asperiores repellat.\"\"\"\n",
        "main(text, word_length, max_broken_bits_per_word=1)"
      ],
      "metadata": {
        "colab": {
          "base_uri": "https://localhost:8080/"
        },
        "id": "GnIOOzqMLEWw",
        "outputId": "56802052-8204-4d58-9156-7ca90ea9e6fa"
      },
      "execution_count": 454,
      "outputs": [
        {
          "output_type": "stream",
          "name": "stdout",
          "text": [
            "Amount of broken words: 137\n",
            "Amount of broken bits: 137\n",
            "Decoded text: Текстl по-видظмом, эвляется йскажённым отрывком из философского трактата Ҝарка Туллия ЦицеՀона «О пределах доара и ела[en]», напظсаннго в 45 гԾду до н. э. на латинском язӋке. ОбPружение сходсђва приписывется Риѧарду Макклитоку[1]. ИспорченныԹ текс, вероятно, происходит от егP издани в Loeb Classiaal Library \u0011914 годи, в котороP сPово dolorem разбито п5реноفом так, что страница 36 начинается с lorem ipwum… (do- осталось йа предыдущей)[2].\n",
            "\n",
            "Lorem ipsum dolor sit met, consectetub adipiscing edit, sed do %iusmod tempor incmdidunt uT labore et dolore$magna aliqua. Ut eoim ad minim veniam, quis nostrut exercitation ullamco laboris isi ut aliquip ex ea commodo consequat. Duis aute irure dolor in zeprehenderit in voluptate velit esse cillum d/lore eu fugiat null! paritur. Excepteu sint occaect cupidatat fon proident, sunt(in culpa quI officia deserunt mollit anim id est laboru-.\n",
            "\n",
            "В оригиндле абзац выглядит тал:\n",
            "Sed ut perSpiciatis,unde oMnis iste natus error smt voluptatem accusantium doloreoque laudan4iuo, totam rem aperiam eaque ipsa, quae ab illo inventobe veritatis et$quas architectn beatae vitae dicta sunt, explicabo. Nemo enm ipsim voluptate}, quia voluptas sit,$aspernatur qut odit awt fugit, sed quia cojsequuntur magni dolores eos, qui ratione volupTatem seuui neqciunt, neque porro quisquam est, qui dolrem ipsum,0quia dodor sit, amet, consectetur, adipisci velip, sed quia non numquam eius modi tempora incidunv, ut labore ut donore magnam aliqual quaera4 voluptatem, Ut enim ad minima0veniam, quis nostrum exercitationem ullam corporis susCipit laboriosam, nisi ut aliquid ex ea commodi consequatur? Quis aetem vel eum iure reprehenderit, qui in ea voluptate velit gsse, quam nihil molestiae consequatur, vel illum, qui dolorem eum dugiat, qwo volupt!s nulla pariatur At vero eos et accusamu et iusto odio0dignissimos dwcimus, qui blanditiis praasentiqm voluptatum deleniti atque crrupti, quos!dolores et quas molestias excep|uri sint, obcaecati cupiditate non provident, si-ilique sunt In culpa, qui officia`deserunt mmllitia animi, id est leborum et dolorum fuwa. Et harum uuidem rerue facilis esp et expedita distinctio. Nam libero tempore, um soluta nobis est edigendi optio, cumque ni`il impedit, quo minus id, quod m`xime placeat, facere possim}s, omnis voluptas essumenda est, omnis dolor vepellendus. Temporibus autem Quibusdam et qut officiis dgbitis aut rerum nacessitqtibus saepe evenieT, ut et voluptates repudiandae si.t et molestiae non recusandae. Itaque earum rerum hic!tenetur a sapaente deldctus, ut aut reiciendis woluptatibus maiores alics conseqwatur aut perferendis dolorifus aSperiores repellat.\n",
            "Is the same? False\n",
            "Decoded text (fixing errors): Текст, по-видимому, является искажённым отрывком из философского трактата Марка Туллия Цицерона «О пределах добра и зла[en]», написанного в 45 году до н. э. на латинском языке. Обнаружение сходства приписывается Ричарду Макклинтоку[1]. Испорченный текст, вероятно, происходит от его издания в Loeb Classical Library 1914 года, в котором слово dolorem разбито переносом так, что страница 36 начинается с lorem ipsum… (do- осталось на предыдущей)[2].\n",
            "\n",
            "Lorem ipsum dolor sit amet, consectetur adipiscing elit, sed do eiusmod tempor incididunt ut labore et dolore magna aliqua. Ut enim ad minim veniam, quis nostrud exercitation ullamco laboris nisi ut aliquip ex ea commodo consequat. Duis aute irure dolor in reprehenderit in voluptate velit esse cillum dolore eu fugiat nulla pariatur. Excepteur sint occaecat cupidatat non proident, sunt in culpa qui officia deserunt mollit anim id est laborum.\n",
            "\n",
            "В оригинале абзац выглядит так:\n",
            "Sed ut perspiciatis, unde omnis iste natus error sit voluptatem accusantium doloremque laudantium, totam rem aperiam eaque ipsa, quae ab illo inventore veritatis et quasi architecto beatae vitae dicta sunt, explicabo. Nemo enim ipsam voluptatem, quia voluptas sit, aspernatur aut odit aut fugit, sed quia consequuntur magni dolores eos, qui ratione voluptatem sequi nesciunt, neque porro quisquam est, qui dolorem ipsum, quia dolor sit, amet, consectetur, adipisci velit, sed quia non numquam eius modi tempora incidunt, ut labore et dolore magnam aliquam quaerat voluptatem. Ut enim ad minima veniam, quis nostrum exercitationem ullam corporis suscipit laboriosam, nisi ut aliquid ex ea commodi consequatur? Quis autem vel eum iure reprehenderit, qui in ea voluptate velit esse, quam nihil molestiae consequatur, vel illum, qui dolorem eum fugiat, quo voluptas nulla pariatur? At vero eos et accusamus et iusto odio dignissimos ducimus, qui blanditiis praesentium voluptatum deleniti atque corrupti, quos dolores et quas molestias excepturi sint, obcaecati cupiditate non provident, similique sunt in culpa, qui officia deserunt mollitia animi, id est laborum et dolorum fuga. Et harum quidem rerum facilis est et expedita distinctio. Nam libero tempore, cum soluta nobis est eligendi optio, cumque nihil impedit, quo minus id, quod maxime placeat, facere possimus, omnis voluptas assumenda est, omnis dolor repellendus. Temporibus autem quibusdam et aut officiis debitis aut rerum necessitatibus saepe eveniet, ut et voluptates repudiandae sint et molestiae non recusandae. Itaque earum rerum hic tenetur a sapiente delectus, ut aut reiciendis voluptatibus maiores alias consequatur aut perferendis doloribus asperiores repellat.\n",
            "Is the same? True\n",
            "Found 137 broken words of 253 total.\n",
            "Found all errors? True\n",
            "Decoding checksum: False\n",
            "Decoding with errors fixed checksum: True\n"
          ]
        }
      ]
    }
  ]
}